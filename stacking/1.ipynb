{
  "cells": [
    {
      "cell_type": "code",
      "source": [
        "#import google drive\n",
        "from google.colab import drive\n",
        "drive.mount('/content/drive')\n"
      ],
      "metadata": {
        "colab": {
          "base_uri": "https://localhost:8080/"
        },
        "id": "kciZXWjUashw",
        "outputId": "a65c57a6-8d4f-4829-ec02-ab1c0bee8288"
      },
      "execution_count": null,
      "outputs": [
        {
          "output_type": "stream",
          "name": "stdout",
          "text": [
            "Drive already mounted at /content/drive; to attempt to forcibly remount, call drive.mount(\"/content/drive\", force_remount=True).\n"
          ]
        }
      ]
    },
    {
      "cell_type": "code",
      "execution_count": null,
      "metadata": {
        "id": "g0nOZlvsbaKu"
      },
      "outputs": [],
      "source": [
        "import tensorflow as tf\n",
        "from tensorflow.keras.models import Sequential\n",
        "from tensorflow.keras.layers import Dense\n",
        "from sklearn.model_selection import train_test_split\n",
        "from sklearn.preprocessing import StandardScaler\n",
        "import numpy as np\n",
        "\n",
        "# Replace these with the paths to your files\n",
        "# file_paths = ['CLTR.txt','BaselinePretrain.txt','AL&NP.txt','PreProcess.txt','TPS.txt']\n",
        "file_paths = ['CLTR.txt','AL&NP.txt','BaselinePretrain.txt','TPS.txt']\n",
        "# List to store data from each file\n",
        "all_data = []\n",
        "\n",
        "# Loop through each file and append its data to the list\n",
        "for file_path in file_paths:\n",
        "    data = np.loadtxt(f'/content/drive/MyDrive/Final/{file_path}')\n",
        "    all_data.append(data)\n",
        "\n",
        "# Convert the list of arrays into a single NumPy array\n",
        "# If you want to combine them along a specific axis, use np.concatenate(all_data, axis=0) for example\n",
        "combined_data = np.array(all_data)\n",
        "\n",
        "data1=combined_data.T\n",
        "labels1=np.loadtxt('/content/drive/MyDrive/Final/Ground Truth.txt')\n",
        "labels1=1-labels1\n",
        "\n",
        "# Normalize the data\n",
        "scaler = StandardScaler()\n",
        "data1_normalized = scaler.fit_transform(data1)\n",
        "\n",
        "# Split the data into training and testing sets\n",
        "X_train, X_test, y_train, y_test = train_test_split(data1_normalized, labels1, test_size=0.5, random_state=42)\n"
      ]
    },
    {
      "cell_type": "code",
      "source": [
        "model = Sequential([\n",
        "    Dense(64, input_shape=(4,), activation='relu'),\n",
        "    Dense(32, activation='relu'),\n",
        "    Dense(16, activation='relu'),\n",
        "    Dense(1, activation='sigmoid')\n",
        "])\n",
        "\n",
        "model.compile(optimizer='adam', loss='binary_crossentropy', metrics=['accuracy'])\n"
      ],
      "metadata": {
        "id": "KDg6vQvpLOW8"
      },
      "execution_count": null,
      "outputs": []
    },
    {
      "cell_type": "code",
      "source": [
        "model.fit(X_train, y_train, epochs=100, batch_size=10)\n"
      ],
      "metadata": {
        "colab": {
          "base_uri": "https://localhost:8080/"
        },
        "id": "I5YQuh1_LVAY",
        "outputId": "64eae941-a3d8-45cc-c664-e14ffae2a993"
      },
      "execution_count": null,
      "outputs": [
        {
          "output_type": "stream",
          "name": "stdout",
          "text": [
            "Epoch 1/100\n",
            "30/30 [==============================] - 2s 5ms/step - loss: 0.5816 - accuracy: 0.7200\n",
            "Epoch 2/100\n",
            "30/30 [==============================] - 0s 4ms/step - loss: 0.4417 - accuracy: 0.8367\n",
            "Epoch 3/100\n",
            "30/30 [==============================] - 0s 4ms/step - loss: 0.3588 - accuracy: 0.8433\n",
            "Epoch 4/100\n",
            "30/30 [==============================] - 0s 3ms/step - loss: 0.3182 - accuracy: 0.8600\n",
            "Epoch 5/100\n",
            "30/30 [==============================] - 0s 4ms/step - loss: 0.3054 - accuracy: 0.8633\n",
            "Epoch 6/100\n",
            "30/30 [==============================] - 0s 4ms/step - loss: 0.3021 - accuracy: 0.8600\n",
            "Epoch 7/100\n",
            "30/30 [==============================] - 0s 4ms/step - loss: 0.2972 - accuracy: 0.8700\n",
            "Epoch 8/100\n",
            "30/30 [==============================] - 0s 5ms/step - loss: 0.2957 - accuracy: 0.8667\n",
            "Epoch 9/100\n",
            "30/30 [==============================] - 0s 4ms/step - loss: 0.2921 - accuracy: 0.8667\n",
            "Epoch 10/100\n",
            "30/30 [==============================] - 0s 5ms/step - loss: 0.2881 - accuracy: 0.8700\n",
            "Epoch 11/100\n",
            "30/30 [==============================] - 0s 6ms/step - loss: 0.2866 - accuracy: 0.8700\n",
            "Epoch 12/100\n",
            "30/30 [==============================] - 0s 6ms/step - loss: 0.2883 - accuracy: 0.8700\n",
            "Epoch 13/100\n",
            "30/30 [==============================] - 0s 5ms/step - loss: 0.2836 - accuracy: 0.8767\n",
            "Epoch 14/100\n",
            "30/30 [==============================] - 0s 5ms/step - loss: 0.2821 - accuracy: 0.8733\n",
            "Epoch 15/100\n",
            "30/30 [==============================] - 0s 5ms/step - loss: 0.2787 - accuracy: 0.8767\n",
            "Epoch 16/100\n",
            "30/30 [==============================] - 0s 6ms/step - loss: 0.2799 - accuracy: 0.8733\n",
            "Epoch 17/100\n",
            "30/30 [==============================] - 0s 7ms/step - loss: 0.2780 - accuracy: 0.8767\n",
            "Epoch 18/100\n",
            "30/30 [==============================] - 0s 6ms/step - loss: 0.2732 - accuracy: 0.8800\n",
            "Epoch 19/100\n",
            "30/30 [==============================] - 0s 5ms/step - loss: 0.2741 - accuracy: 0.8833\n",
            "Epoch 20/100\n",
            "30/30 [==============================] - 0s 5ms/step - loss: 0.2712 - accuracy: 0.8767\n",
            "Epoch 21/100\n",
            "30/30 [==============================] - 0s 5ms/step - loss: 0.2773 - accuracy: 0.8800\n",
            "Epoch 22/100\n",
            "30/30 [==============================] - 0s 5ms/step - loss: 0.2681 - accuracy: 0.8800\n",
            "Epoch 23/100\n",
            "30/30 [==============================] - 0s 6ms/step - loss: 0.2646 - accuracy: 0.8833\n",
            "Epoch 24/100\n",
            "30/30 [==============================] - 0s 6ms/step - loss: 0.2655 - accuracy: 0.8833\n",
            "Epoch 25/100\n",
            "30/30 [==============================] - 0s 5ms/step - loss: 0.2668 - accuracy: 0.8833\n",
            "Epoch 26/100\n",
            "30/30 [==============================] - 0s 4ms/step - loss: 0.2679 - accuracy: 0.8900\n",
            "Epoch 27/100\n",
            "30/30 [==============================] - 0s 4ms/step - loss: 0.2607 - accuracy: 0.8833\n",
            "Epoch 28/100\n",
            "30/30 [==============================] - 0s 4ms/step - loss: 0.2597 - accuracy: 0.8867\n",
            "Epoch 29/100\n",
            "30/30 [==============================] - 0s 5ms/step - loss: 0.2563 - accuracy: 0.8900\n",
            "Epoch 30/100\n",
            "30/30 [==============================] - 0s 4ms/step - loss: 0.2557 - accuracy: 0.8933\n",
            "Epoch 31/100\n",
            "30/30 [==============================] - 0s 5ms/step - loss: 0.2560 - accuracy: 0.8867\n",
            "Epoch 32/100\n",
            "30/30 [==============================] - 0s 4ms/step - loss: 0.2552 - accuracy: 0.8900\n",
            "Epoch 33/100\n",
            "30/30 [==============================] - 0s 4ms/step - loss: 0.2524 - accuracy: 0.8867\n",
            "Epoch 34/100\n",
            "30/30 [==============================] - 0s 5ms/step - loss: 0.2469 - accuracy: 0.8967\n",
            "Epoch 35/100\n",
            "30/30 [==============================] - 0s 6ms/step - loss: 0.2456 - accuracy: 0.8967\n",
            "Epoch 36/100\n",
            "30/30 [==============================] - 0s 5ms/step - loss: 0.2495 - accuracy: 0.8933\n",
            "Epoch 37/100\n",
            "30/30 [==============================] - 0s 3ms/step - loss: 0.2427 - accuracy: 0.8967\n",
            "Epoch 38/100\n",
            "30/30 [==============================] - 0s 5ms/step - loss: 0.2446 - accuracy: 0.9000\n",
            "Epoch 39/100\n",
            "30/30 [==============================] - 0s 3ms/step - loss: 0.2389 - accuracy: 0.9000\n",
            "Epoch 40/100\n",
            "30/30 [==============================] - 0s 3ms/step - loss: 0.2391 - accuracy: 0.9000\n",
            "Epoch 41/100\n",
            "30/30 [==============================] - 0s 4ms/step - loss: 0.2370 - accuracy: 0.9000\n",
            "Epoch 42/100\n",
            "30/30 [==============================] - 0s 5ms/step - loss: 0.2352 - accuracy: 0.8967\n",
            "Epoch 43/100\n",
            "30/30 [==============================] - 0s 5ms/step - loss: 0.2377 - accuracy: 0.9000\n",
            "Epoch 44/100\n",
            "30/30 [==============================] - 0s 4ms/step - loss: 0.2399 - accuracy: 0.9067\n",
            "Epoch 45/100\n",
            "30/30 [==============================] - 0s 5ms/step - loss: 0.2314 - accuracy: 0.9067\n",
            "Epoch 46/100\n",
            "30/30 [==============================] - 0s 5ms/step - loss: 0.2290 - accuracy: 0.9033\n",
            "Epoch 47/100\n",
            "30/30 [==============================] - 0s 6ms/step - loss: 0.2280 - accuracy: 0.9000\n",
            "Epoch 48/100\n",
            "30/30 [==============================] - 0s 6ms/step - loss: 0.2257 - accuracy: 0.9100\n",
            "Epoch 49/100\n",
            "30/30 [==============================] - 0s 5ms/step - loss: 0.2253 - accuracy: 0.9033\n",
            "Epoch 50/100\n",
            "30/30 [==============================] - 0s 4ms/step - loss: 0.2227 - accuracy: 0.9100\n",
            "Epoch 51/100\n",
            "30/30 [==============================] - 0s 6ms/step - loss: 0.2201 - accuracy: 0.9067\n",
            "Epoch 52/100\n",
            "30/30 [==============================] - 0s 5ms/step - loss: 0.2323 - accuracy: 0.9033\n",
            "Epoch 53/100\n",
            "30/30 [==============================] - 0s 4ms/step - loss: 0.2177 - accuracy: 0.9133\n",
            "Epoch 54/100\n",
            "30/30 [==============================] - 0s 4ms/step - loss: 0.2197 - accuracy: 0.9133\n",
            "Epoch 55/100\n",
            "30/30 [==============================] - 0s 5ms/step - loss: 0.2162 - accuracy: 0.9167\n",
            "Epoch 56/100\n",
            "30/30 [==============================] - 0s 5ms/step - loss: 0.2171 - accuracy: 0.9167\n",
            "Epoch 57/100\n",
            "30/30 [==============================] - 0s 6ms/step - loss: 0.2147 - accuracy: 0.9167\n",
            "Epoch 58/100\n",
            "30/30 [==============================] - 0s 6ms/step - loss: 0.2096 - accuracy: 0.9100\n",
            "Epoch 59/100\n",
            "30/30 [==============================] - 0s 6ms/step - loss: 0.2092 - accuracy: 0.9200\n",
            "Epoch 60/100\n",
            "30/30 [==============================] - 0s 5ms/step - loss: 0.2152 - accuracy: 0.9133\n",
            "Epoch 61/100\n",
            "30/30 [==============================] - 0s 4ms/step - loss: 0.2075 - accuracy: 0.9233\n",
            "Epoch 62/100\n",
            "30/30 [==============================] - 0s 5ms/step - loss: 0.2115 - accuracy: 0.9133\n",
            "Epoch 63/100\n",
            "30/30 [==============================] - 0s 4ms/step - loss: 0.2095 - accuracy: 0.9133\n",
            "Epoch 64/100\n",
            "30/30 [==============================] - 0s 5ms/step - loss: 0.2049 - accuracy: 0.9200\n",
            "Epoch 65/100\n",
            "30/30 [==============================] - 0s 5ms/step - loss: 0.1991 - accuracy: 0.9200\n",
            "Epoch 66/100\n",
            "30/30 [==============================] - 0s 5ms/step - loss: 0.2025 - accuracy: 0.9200\n",
            "Epoch 67/100\n",
            "30/30 [==============================] - 0s 5ms/step - loss: 0.1992 - accuracy: 0.9233\n",
            "Epoch 68/100\n",
            "30/30 [==============================] - 0s 5ms/step - loss: 0.1985 - accuracy: 0.9200\n",
            "Epoch 69/100\n",
            "30/30 [==============================] - 0s 4ms/step - loss: 0.1957 - accuracy: 0.9233\n",
            "Epoch 70/100\n",
            "30/30 [==============================] - 0s 4ms/step - loss: 0.1987 - accuracy: 0.9200\n",
            "Epoch 71/100\n",
            "30/30 [==============================] - 0s 4ms/step - loss: 0.1976 - accuracy: 0.9167\n",
            "Epoch 72/100\n",
            "30/30 [==============================] - 0s 4ms/step - loss: 0.1930 - accuracy: 0.9267\n",
            "Epoch 73/100\n",
            "30/30 [==============================] - 0s 4ms/step - loss: 0.1907 - accuracy: 0.9200\n",
            "Epoch 74/100\n",
            "30/30 [==============================] - 0s 4ms/step - loss: 0.1921 - accuracy: 0.9200\n",
            "Epoch 75/100\n",
            "30/30 [==============================] - 0s 4ms/step - loss: 0.1907 - accuracy: 0.9233\n",
            "Epoch 76/100\n",
            "30/30 [==============================] - 0s 4ms/step - loss: 0.1966 - accuracy: 0.9267\n",
            "Epoch 77/100\n",
            "30/30 [==============================] - 0s 5ms/step - loss: 0.1828 - accuracy: 0.9300\n",
            "Epoch 78/100\n",
            "30/30 [==============================] - 0s 4ms/step - loss: 0.1857 - accuracy: 0.9300\n",
            "Epoch 79/100\n",
            "30/30 [==============================] - 0s 4ms/step - loss: 0.1847 - accuracy: 0.9333\n",
            "Epoch 80/100\n",
            "30/30 [==============================] - 0s 4ms/step - loss: 0.1850 - accuracy: 0.9267\n",
            "Epoch 81/100\n",
            "30/30 [==============================] - 0s 5ms/step - loss: 0.1818 - accuracy: 0.9333\n",
            "Epoch 82/100\n",
            "30/30 [==============================] - 0s 4ms/step - loss: 0.1827 - accuracy: 0.9267\n",
            "Epoch 83/100\n",
            "30/30 [==============================] - 0s 3ms/step - loss: 0.1855 - accuracy: 0.9333\n",
            "Epoch 84/100\n",
            "30/30 [==============================] - 0s 3ms/step - loss: 0.1766 - accuracy: 0.9333\n",
            "Epoch 85/100\n",
            "30/30 [==============================] - 0s 3ms/step - loss: 0.1770 - accuracy: 0.9367\n",
            "Epoch 86/100\n",
            "30/30 [==============================] - 0s 3ms/step - loss: 0.1811 - accuracy: 0.9267\n",
            "Epoch 87/100\n",
            "30/30 [==============================] - 0s 3ms/step - loss: 0.1766 - accuracy: 0.9400\n",
            "Epoch 88/100\n",
            "30/30 [==============================] - 0s 2ms/step - loss: 0.1767 - accuracy: 0.9333\n",
            "Epoch 89/100\n",
            "30/30 [==============================] - 0s 3ms/step - loss: 0.1689 - accuracy: 0.9433\n",
            "Epoch 90/100\n",
            "30/30 [==============================] - 0s 2ms/step - loss: 0.1757 - accuracy: 0.9333\n",
            "Epoch 91/100\n",
            "30/30 [==============================] - 0s 3ms/step - loss: 0.1717 - accuracy: 0.9400\n",
            "Epoch 92/100\n",
            "30/30 [==============================] - 0s 3ms/step - loss: 0.1692 - accuracy: 0.9400\n",
            "Epoch 93/100\n",
            "30/30 [==============================] - 0s 3ms/step - loss: 0.1716 - accuracy: 0.9267\n",
            "Epoch 94/100\n",
            "30/30 [==============================] - 0s 3ms/step - loss: 0.1805 - accuracy: 0.9267\n",
            "Epoch 95/100\n",
            "30/30 [==============================] - 0s 2ms/step - loss: 0.1708 - accuracy: 0.9300\n",
            "Epoch 96/100\n",
            "30/30 [==============================] - 0s 2ms/step - loss: 0.1645 - accuracy: 0.9400\n",
            "Epoch 97/100\n",
            "30/30 [==============================] - 0s 3ms/step - loss: 0.1662 - accuracy: 0.9333\n",
            "Epoch 98/100\n",
            "30/30 [==============================] - 0s 3ms/step - loss: 0.1637 - accuracy: 0.9367\n",
            "Epoch 99/100\n",
            "30/30 [==============================] - 0s 2ms/step - loss: 0.1745 - accuracy: 0.9300\n",
            "Epoch 100/100\n",
            "30/30 [==============================] - 0s 3ms/step - loss: 0.1677 - accuracy: 0.9267\n"
          ]
        },
        {
          "output_type": "execute_result",
          "data": {
            "text/plain": [
              "<keras.src.callbacks.History at 0x7d5a35e6a7a0>"
            ]
          },
          "metadata": {},
          "execution_count": 67
        }
      ]
    },
    {
      "cell_type": "code",
      "source": [
        "loss, accuracy = model.evaluate(X_test, y_test)\n",
        "print(f\"Test Accuracy: {accuracy*100:.2f}%\")\n"
      ],
      "metadata": {
        "id": "yTgPIPlLRS1X",
        "outputId": "869d6754-848f-4de2-c4bf-9ac4ee386ae9",
        "colab": {
          "base_uri": "https://localhost:8080/"
        }
      },
      "execution_count": null,
      "outputs": [
        {
          "output_type": "stream",
          "name": "stdout",
          "text": [
            "10/10 [==============================] - 0s 2ms/step - loss: 0.8366 - accuracy: 0.8267\n",
            "Test Accuracy: 82.67%\n"
          ]
        }
      ]
    }
  ],
  "metadata": {
    "kernelspec": {
      "display_name": "Python 3",
      "language": "python",
      "name": "python3"
    },
    "language_info": {
      "codemirror_mode": {
        "name": "ipython",
        "version": 3
      },
      "file_extension": ".py",
      "mimetype": "text/x-python",
      "name": "python",
      "nbconvert_exporter": "python",
      "pygments_lexer": "ipython3",
      "version": "3.9.13"
    },
    "colab": {
      "provenance": []
    }
  },
  "nbformat": 4,
  "nbformat_minor": 0
}